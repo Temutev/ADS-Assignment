{
 "cells": [
  {
   "cell_type": "code",
   "execution_count": 1,
   "id": "84ade720",
   "metadata": {
    "_cell_guid": "b1076dfc-b9ad-4769-8c92-a6c4dae69d19",
    "_uuid": "8f2839f25d086af736a60e9eeb907d3b93b6e0e5",
    "execution": {
     "iopub.execute_input": "2022-03-23T20:59:45.830020Z",
     "iopub.status.busy": "2022-03-23T20:59:45.828191Z",
     "iopub.status.idle": "2022-03-23T20:59:45.846910Z",
     "shell.execute_reply": "2022-03-23T20:59:45.847802Z",
     "shell.execute_reply.started": "2022-03-23T20:58:34.120837Z"
    },
    "papermill": {
     "duration": 0.063848,
     "end_time": "2022-03-23T20:59:45.848340",
     "exception": false,
     "start_time": "2022-03-23T20:59:45.784492",
     "status": "completed"
    },
    "tags": []
   },
   "outputs": [
    {
     "name": "stdout",
     "output_type": "stream",
     "text": [
      "/kaggle/input/churn-predictions-personal/Churn_Predictions.csv\n"
     ]
    }
   ],
   "source": [
    "# This Python 3 environment comes with many helpful analytics libraries installed\n",
    "# It is defined by the kaggle/python Docker image: https://github.com/kaggle/docker-python\n",
    "# For example, here's several helpful packages to load\n",
    "\n",
    "import numpy as np # linear algebra\n",
    "import pandas as pd # data processing, CSV file I/O (e.g. pd.read_csv)\n",
    "\n",
    "# Input data files are available in the read-only \"../input/\" directory\n",
    "# For example, running this (by clicking run or pressing Shift+Enter) will list all files under the input directory\n",
    "\n",
    "import os\n",
    "for dirname, _, filenames in os.walk('/kaggle/input'):\n",
    "    for filename in filenames:\n",
    "        print(os.path.join(dirname, filename))\n",
    "\n",
    "# You can write up to 20GB to the current directory (/kaggle/working/) that gets preserved as output when you create a version using \"Save & Run All\" \n",
    "# You can also write temporary files to /kaggle/temp/, but they won't be saved outside of the current session"
   ]
  },
  {
   "cell_type": "code",
   "execution_count": 2,
   "id": "4f972904",
   "metadata": {
    "execution": {
     "iopub.execute_input": "2022-03-23T20:59:45.931189Z",
     "iopub.status.busy": "2022-03-23T20:59:45.930468Z",
     "iopub.status.idle": "2022-03-23T20:59:48.758136Z",
     "shell.execute_reply": "2022-03-23T20:59:48.757495Z",
     "shell.execute_reply.started": "2022-03-23T20:58:34.207645Z"
    },
    "papermill": {
     "duration": 2.869731,
     "end_time": "2022-03-23T20:59:48.758295",
     "exception": false,
     "start_time": "2022-03-23T20:59:45.888564",
     "status": "completed"
    },
    "tags": []
   },
   "outputs": [
    {
     "data": {
      "text/html": [
       "<style type='text/css'>\n",
       ".datatable table.frame { margin-bottom: 0; }\n",
       ".datatable table.frame thead { border-bottom: none; }\n",
       ".datatable table.frame tr.coltypes td {  color: #FFFFFF;  line-height: 6px;  padding: 0 0.5em;}\n",
       ".datatable .bool    { background: #DDDD99; }\n",
       ".datatable .object  { background: #565656; }\n",
       ".datatable .int     { background: #5D9E5D; }\n",
       ".datatable .float   { background: #4040CC; }\n",
       ".datatable .str     { background: #CC4040; }\n",
       ".datatable .time    { background: #40CC40; }\n",
       ".datatable .row_index {  background: var(--jp-border-color3);  border-right: 1px solid var(--jp-border-color0);  color: var(--jp-ui-font-color3);  font-size: 9px;}\n",
       ".datatable .frame tbody td { text-align: left; }\n",
       ".datatable .frame tr.coltypes .row_index {  background: var(--jp-border-color0);}\n",
       ".datatable th:nth-child(2) { padding-left: 12px; }\n",
       ".datatable .hellipsis {  color: var(--jp-cell-editor-border-color);}\n",
       ".datatable .vellipsis {  background: var(--jp-layout-color0);  color: var(--jp-cell-editor-border-color);}\n",
       ".datatable .na {  color: var(--jp-cell-editor-border-color);  font-size: 80%;}\n",
       ".datatable .sp {  opacity: 0.25;}\n",
       ".datatable .footer { font-size: 9px; }\n",
       ".datatable .frame_dimensions {  background: var(--jp-border-color3);  border-top: 1px solid var(--jp-border-color0);  color: var(--jp-ui-font-color3);  display: inline-block;  opacity: 0.6;  padding: 1px 10px 1px 5px;}\n",
       "</style>\n"
      ],
      "text/plain": [
       "<IPython.core.display.HTML object>"
      ]
     },
     "metadata": {},
     "output_type": "display_data"
    }
   ],
   "source": [
    "import seaborn as sns \n",
    "import matplotlib.pyplot as plt \n",
    "import warnings\n",
    "warnings.filterwarnings('ignore')\n",
    "%matplotlib inline \n",
    "\n",
    "# Splitting data into training and testing\n",
    "from sklearn.model_selection import train_test_split,cross_val_score\n",
    "# No warnings about setting value on copy of slice\n",
    "pd.options.mode.chained_assignment = None\n",
    "\n",
    "# Display up to 60 columns of a dataframe\n",
    "pd.set_option('display.max_columns', 60)\n",
    "\n",
    "#Sklearn Models\n",
    "from sklearn.linear_model import LogisticRegression, RidgeClassifier, SGDClassifier\n",
    "from sklearn.tree import DecisionTreeClassifier\n",
    "from sklearn.ensemble import RandomForestClassifier, GradientBoostingClassifier, BaggingClassifier\n",
    "from sklearn.naive_bayes import CategoricalNB\n",
    "from sklearn.neighbors import KNeighborsClassifier\n",
    "from sklearn.svm import SVC\n",
    "from sklearn.tree import DecisionTreeClassifier\n",
    "\n",
    "from sklearn.metrics import confusion_matrix, accuracy_score, ConfusionMatrixDisplay,classification_report\n",
    "import math\n",
    "import xgboost as xgb\n",
    "import lightgbm as lgb\n",
    "from imblearn.over_sampling import SMOTE"
   ]
  },
  {
   "cell_type": "code",
   "execution_count": 3,
   "id": "23595a18",
   "metadata": {
    "execution": {
     "iopub.execute_input": "2022-03-23T20:59:48.842664Z",
     "iopub.status.busy": "2022-03-23T20:59:48.841942Z",
     "iopub.status.idle": "2022-03-23T20:59:48.887558Z",
     "shell.execute_reply": "2022-03-23T20:59:48.888209Z",
     "shell.execute_reply.started": "2022-03-23T20:58:36.688449Z"
    },
    "papermill": {
     "duration": 0.090958,
     "end_time": "2022-03-23T20:59:48.888409",
     "exception": false,
     "start_time": "2022-03-23T20:59:48.797451",
     "status": "completed"
    },
    "tags": []
   },
   "outputs": [],
   "source": [
    "df =pd.read_csv(\"/kaggle/input/churn-predictions-personal/Churn_Predictions.csv\")"
   ]
  },
  {
   "cell_type": "code",
   "execution_count": 4,
   "id": "ad57eae1",
   "metadata": {
    "execution": {
     "iopub.execute_input": "2022-03-23T20:59:48.970523Z",
     "iopub.status.busy": "2022-03-23T20:59:48.969854Z",
     "iopub.status.idle": "2022-03-23T20:59:48.989772Z",
     "shell.execute_reply": "2022-03-23T20:59:48.990345Z",
     "shell.execute_reply.started": "2022-03-23T20:58:36.732367Z"
    },
    "papermill": {
     "duration": 0.062011,
     "end_time": "2022-03-23T20:59:48.990510",
     "exception": false,
     "start_time": "2022-03-23T20:59:48.928499",
     "status": "completed"
    },
    "tags": []
   },
   "outputs": [
    {
     "data": {
      "text/html": [
       "<div>\n",
       "<style scoped>\n",
       "    .dataframe tbody tr th:only-of-type {\n",
       "        vertical-align: middle;\n",
       "    }\n",
       "\n",
       "    .dataframe tbody tr th {\n",
       "        vertical-align: top;\n",
       "    }\n",
       "\n",
       "    .dataframe thead th {\n",
       "        text-align: right;\n",
       "    }\n",
       "</style>\n",
       "<table border=\"1\" class=\"dataframe\">\n",
       "  <thead>\n",
       "    <tr style=\"text-align: right;\">\n",
       "      <th></th>\n",
       "      <th>RowNumber</th>\n",
       "      <th>CustomerId</th>\n",
       "      <th>Surname</th>\n",
       "      <th>CreditScore</th>\n",
       "      <th>Geography</th>\n",
       "      <th>Gender</th>\n",
       "      <th>Age</th>\n",
       "      <th>Tenure</th>\n",
       "      <th>Balance</th>\n",
       "      <th>NumOfProducts</th>\n",
       "      <th>HasCrCard</th>\n",
       "      <th>IsActiveMember</th>\n",
       "      <th>EstimatedSalary</th>\n",
       "      <th>Exited</th>\n",
       "    </tr>\n",
       "  </thead>\n",
       "  <tbody>\n",
       "    <tr>\n",
       "      <th>0</th>\n",
       "      <td>1</td>\n",
       "      <td>15634602</td>\n",
       "      <td>Hargrave</td>\n",
       "      <td>619</td>\n",
       "      <td>France</td>\n",
       "      <td>Female</td>\n",
       "      <td>42</td>\n",
       "      <td>2</td>\n",
       "      <td>0.00</td>\n",
       "      <td>1</td>\n",
       "      <td>1</td>\n",
       "      <td>1</td>\n",
       "      <td>101348.88</td>\n",
       "      <td>1</td>\n",
       "    </tr>\n",
       "    <tr>\n",
       "      <th>1</th>\n",
       "      <td>2</td>\n",
       "      <td>15647311</td>\n",
       "      <td>Hill</td>\n",
       "      <td>608</td>\n",
       "      <td>Spain</td>\n",
       "      <td>Female</td>\n",
       "      <td>41</td>\n",
       "      <td>1</td>\n",
       "      <td>83807.86</td>\n",
       "      <td>1</td>\n",
       "      <td>0</td>\n",
       "      <td>1</td>\n",
       "      <td>112542.58</td>\n",
       "      <td>0</td>\n",
       "    </tr>\n",
       "    <tr>\n",
       "      <th>2</th>\n",
       "      <td>3</td>\n",
       "      <td>15619304</td>\n",
       "      <td>Onio</td>\n",
       "      <td>502</td>\n",
       "      <td>France</td>\n",
       "      <td>Female</td>\n",
       "      <td>42</td>\n",
       "      <td>8</td>\n",
       "      <td>159660.80</td>\n",
       "      <td>3</td>\n",
       "      <td>1</td>\n",
       "      <td>0</td>\n",
       "      <td>113931.57</td>\n",
       "      <td>1</td>\n",
       "    </tr>\n",
       "    <tr>\n",
       "      <th>3</th>\n",
       "      <td>4</td>\n",
       "      <td>15701354</td>\n",
       "      <td>Boni</td>\n",
       "      <td>699</td>\n",
       "      <td>France</td>\n",
       "      <td>Female</td>\n",
       "      <td>39</td>\n",
       "      <td>1</td>\n",
       "      <td>0.00</td>\n",
       "      <td>2</td>\n",
       "      <td>0</td>\n",
       "      <td>0</td>\n",
       "      <td>93826.63</td>\n",
       "      <td>0</td>\n",
       "    </tr>\n",
       "    <tr>\n",
       "      <th>4</th>\n",
       "      <td>5</td>\n",
       "      <td>15737888</td>\n",
       "      <td>Mitchell</td>\n",
       "      <td>850</td>\n",
       "      <td>Spain</td>\n",
       "      <td>Female</td>\n",
       "      <td>43</td>\n",
       "      <td>2</td>\n",
       "      <td>125510.82</td>\n",
       "      <td>1</td>\n",
       "      <td>1</td>\n",
       "      <td>1</td>\n",
       "      <td>79084.10</td>\n",
       "      <td>0</td>\n",
       "    </tr>\n",
       "  </tbody>\n",
       "</table>\n",
       "</div>"
      ],
      "text/plain": [
       "   RowNumber  CustomerId   Surname  CreditScore Geography  Gender  Age  \\\n",
       "0          1    15634602  Hargrave          619    France  Female   42   \n",
       "1          2    15647311      Hill          608     Spain  Female   41   \n",
       "2          3    15619304      Onio          502    France  Female   42   \n",
       "3          4    15701354      Boni          699    France  Female   39   \n",
       "4          5    15737888  Mitchell          850     Spain  Female   43   \n",
       "\n",
       "   Tenure    Balance  NumOfProducts  HasCrCard  IsActiveMember  \\\n",
       "0       2       0.00              1          1               1   \n",
       "1       1   83807.86              1          0               1   \n",
       "2       8  159660.80              3          1               0   \n",
       "3       1       0.00              2          0               0   \n",
       "4       2  125510.82              1          1               1   \n",
       "\n",
       "   EstimatedSalary  Exited  \n",
       "0        101348.88       1  \n",
       "1        112542.58       0  \n",
       "2        113931.57       1  \n",
       "3         93826.63       0  \n",
       "4         79084.10       0  "
      ]
     },
     "execution_count": 4,
     "metadata": {},
     "output_type": "execute_result"
    }
   ],
   "source": [
    "df.head()"
   ]
  },
  {
   "cell_type": "code",
   "execution_count": 5,
   "id": "bae2ce0d",
   "metadata": {
    "execution": {
     "iopub.execute_input": "2022-03-23T20:59:49.075801Z",
     "iopub.status.busy": "2022-03-23T20:59:49.075148Z",
     "iopub.status.idle": "2022-03-23T20:59:49.079671Z",
     "shell.execute_reply": "2022-03-23T20:59:49.080319Z",
     "shell.execute_reply.started": "2022-03-23T20:58:36.757231Z"
    },
    "papermill": {
     "duration": 0.049969,
     "end_time": "2022-03-23T20:59:49.080509",
     "exception": false,
     "start_time": "2022-03-23T20:59:49.030540",
     "status": "completed"
    },
    "tags": []
   },
   "outputs": [
    {
     "data": {
      "text/plain": [
       "(10000, 14)"
      ]
     },
     "execution_count": 5,
     "metadata": {},
     "output_type": "execute_result"
    }
   ],
   "source": [
    "df.shape"
   ]
  },
  {
   "cell_type": "code",
   "execution_count": 6,
   "id": "039960f1",
   "metadata": {
    "execution": {
     "iopub.execute_input": "2022-03-23T20:59:49.166320Z",
     "iopub.status.busy": "2022-03-23T20:59:49.165640Z",
     "iopub.status.idle": "2022-03-23T20:59:49.225153Z",
     "shell.execute_reply": "2022-03-23T20:59:49.224571Z",
     "shell.execute_reply.started": "2022-03-23T20:58:36.764388Z"
    },
    "papermill": {
     "duration": 0.102153,
     "end_time": "2022-03-23T20:59:49.225297",
     "exception": false,
     "start_time": "2022-03-23T20:59:49.123144",
     "status": "completed"
    },
    "tags": []
   },
   "outputs": [
    {
     "data": {
      "text/html": [
       "<div>\n",
       "<style scoped>\n",
       "    .dataframe tbody tr th:only-of-type {\n",
       "        vertical-align: middle;\n",
       "    }\n",
       "\n",
       "    .dataframe tbody tr th {\n",
       "        vertical-align: top;\n",
       "    }\n",
       "\n",
       "    .dataframe thead th {\n",
       "        text-align: right;\n",
       "    }\n",
       "</style>\n",
       "<table border=\"1\" class=\"dataframe\">\n",
       "  <thead>\n",
       "    <tr style=\"text-align: right;\">\n",
       "      <th></th>\n",
       "      <th>RowNumber</th>\n",
       "      <th>CustomerId</th>\n",
       "      <th>CreditScore</th>\n",
       "      <th>Age</th>\n",
       "      <th>Tenure</th>\n",
       "      <th>Balance</th>\n",
       "      <th>NumOfProducts</th>\n",
       "      <th>HasCrCard</th>\n",
       "      <th>IsActiveMember</th>\n",
       "      <th>EstimatedSalary</th>\n",
       "      <th>Exited</th>\n",
       "    </tr>\n",
       "  </thead>\n",
       "  <tbody>\n",
       "    <tr>\n",
       "      <th>count</th>\n",
       "      <td>10000.00000</td>\n",
       "      <td>1.000000e+04</td>\n",
       "      <td>10000.000000</td>\n",
       "      <td>10000.000000</td>\n",
       "      <td>10000.000000</td>\n",
       "      <td>10000.000000</td>\n",
       "      <td>10000.000000</td>\n",
       "      <td>10000.00000</td>\n",
       "      <td>10000.000000</td>\n",
       "      <td>10000.000000</td>\n",
       "      <td>10000.000000</td>\n",
       "    </tr>\n",
       "    <tr>\n",
       "      <th>mean</th>\n",
       "      <td>5000.50000</td>\n",
       "      <td>1.569094e+07</td>\n",
       "      <td>650.528800</td>\n",
       "      <td>38.921800</td>\n",
       "      <td>5.012800</td>\n",
       "      <td>76485.889288</td>\n",
       "      <td>1.530200</td>\n",
       "      <td>0.70550</td>\n",
       "      <td>0.515100</td>\n",
       "      <td>100090.239881</td>\n",
       "      <td>0.203700</td>\n",
       "    </tr>\n",
       "    <tr>\n",
       "      <th>std</th>\n",
       "      <td>2886.89568</td>\n",
       "      <td>7.193619e+04</td>\n",
       "      <td>96.653299</td>\n",
       "      <td>10.487806</td>\n",
       "      <td>2.892174</td>\n",
       "      <td>62397.405202</td>\n",
       "      <td>0.581654</td>\n",
       "      <td>0.45584</td>\n",
       "      <td>0.499797</td>\n",
       "      <td>57510.492818</td>\n",
       "      <td>0.402769</td>\n",
       "    </tr>\n",
       "    <tr>\n",
       "      <th>min</th>\n",
       "      <td>1.00000</td>\n",
       "      <td>1.556570e+07</td>\n",
       "      <td>350.000000</td>\n",
       "      <td>18.000000</td>\n",
       "      <td>0.000000</td>\n",
       "      <td>0.000000</td>\n",
       "      <td>1.000000</td>\n",
       "      <td>0.00000</td>\n",
       "      <td>0.000000</td>\n",
       "      <td>11.580000</td>\n",
       "      <td>0.000000</td>\n",
       "    </tr>\n",
       "    <tr>\n",
       "      <th>25%</th>\n",
       "      <td>2500.75000</td>\n",
       "      <td>1.562853e+07</td>\n",
       "      <td>584.000000</td>\n",
       "      <td>32.000000</td>\n",
       "      <td>3.000000</td>\n",
       "      <td>0.000000</td>\n",
       "      <td>1.000000</td>\n",
       "      <td>0.00000</td>\n",
       "      <td>0.000000</td>\n",
       "      <td>51002.110000</td>\n",
       "      <td>0.000000</td>\n",
       "    </tr>\n",
       "    <tr>\n",
       "      <th>50%</th>\n",
       "      <td>5000.50000</td>\n",
       "      <td>1.569074e+07</td>\n",
       "      <td>652.000000</td>\n",
       "      <td>37.000000</td>\n",
       "      <td>5.000000</td>\n",
       "      <td>97198.540000</td>\n",
       "      <td>1.000000</td>\n",
       "      <td>1.00000</td>\n",
       "      <td>1.000000</td>\n",
       "      <td>100193.915000</td>\n",
       "      <td>0.000000</td>\n",
       "    </tr>\n",
       "    <tr>\n",
       "      <th>75%</th>\n",
       "      <td>7500.25000</td>\n",
       "      <td>1.575323e+07</td>\n",
       "      <td>718.000000</td>\n",
       "      <td>44.000000</td>\n",
       "      <td>7.000000</td>\n",
       "      <td>127644.240000</td>\n",
       "      <td>2.000000</td>\n",
       "      <td>1.00000</td>\n",
       "      <td>1.000000</td>\n",
       "      <td>149388.247500</td>\n",
       "      <td>0.000000</td>\n",
       "    </tr>\n",
       "    <tr>\n",
       "      <th>max</th>\n",
       "      <td>10000.00000</td>\n",
       "      <td>1.581569e+07</td>\n",
       "      <td>850.000000</td>\n",
       "      <td>92.000000</td>\n",
       "      <td>10.000000</td>\n",
       "      <td>250898.090000</td>\n",
       "      <td>4.000000</td>\n",
       "      <td>1.00000</td>\n",
       "      <td>1.000000</td>\n",
       "      <td>199992.480000</td>\n",
       "      <td>1.000000</td>\n",
       "    </tr>\n",
       "  </tbody>\n",
       "</table>\n",
       "</div>"
      ],
      "text/plain": [
       "         RowNumber    CustomerId   CreditScore           Age        Tenure  \\\n",
       "count  10000.00000  1.000000e+04  10000.000000  10000.000000  10000.000000   \n",
       "mean    5000.50000  1.569094e+07    650.528800     38.921800      5.012800   \n",
       "std     2886.89568  7.193619e+04     96.653299     10.487806      2.892174   \n",
       "min        1.00000  1.556570e+07    350.000000     18.000000      0.000000   \n",
       "25%     2500.75000  1.562853e+07    584.000000     32.000000      3.000000   \n",
       "50%     5000.50000  1.569074e+07    652.000000     37.000000      5.000000   \n",
       "75%     7500.25000  1.575323e+07    718.000000     44.000000      7.000000   \n",
       "max    10000.00000  1.581569e+07    850.000000     92.000000     10.000000   \n",
       "\n",
       "             Balance  NumOfProducts    HasCrCard  IsActiveMember  \\\n",
       "count   10000.000000   10000.000000  10000.00000    10000.000000   \n",
       "mean    76485.889288       1.530200      0.70550        0.515100   \n",
       "std     62397.405202       0.581654      0.45584        0.499797   \n",
       "min         0.000000       1.000000      0.00000        0.000000   \n",
       "25%         0.000000       1.000000      0.00000        0.000000   \n",
       "50%     97198.540000       1.000000      1.00000        1.000000   \n",
       "75%    127644.240000       2.000000      1.00000        1.000000   \n",
       "max    250898.090000       4.000000      1.00000        1.000000   \n",
       "\n",
       "       EstimatedSalary        Exited  \n",
       "count     10000.000000  10000.000000  \n",
       "mean     100090.239881      0.203700  \n",
       "std       57510.492818      0.402769  \n",
       "min          11.580000      0.000000  \n",
       "25%       51002.110000      0.000000  \n",
       "50%      100193.915000      0.000000  \n",
       "75%      149388.247500      0.000000  \n",
       "max      199992.480000      1.000000  "
      ]
     },
     "execution_count": 6,
     "metadata": {},
     "output_type": "execute_result"
    }
   ],
   "source": [
    "df.describe()"
   ]
  },
  {
   "cell_type": "code",
   "execution_count": 7,
   "id": "0b611dbf",
   "metadata": {
    "execution": {
     "iopub.execute_input": "2022-03-23T20:59:49.317511Z",
     "iopub.status.busy": "2022-03-23T20:59:49.316764Z",
     "iopub.status.idle": "2022-03-23T20:59:49.334747Z",
     "shell.execute_reply": "2022-03-23T20:59:49.335420Z",
     "shell.execute_reply.started": "2022-03-23T20:58:36.824101Z"
    },
    "papermill": {
     "duration": 0.069286,
     "end_time": "2022-03-23T20:59:49.335590",
     "exception": false,
     "start_time": "2022-03-23T20:59:49.266304",
     "status": "completed"
    },
    "tags": []
   },
   "outputs": [
    {
     "data": {
      "text/html": [
       "<div>\n",
       "<style scoped>\n",
       "    .dataframe tbody tr th:only-of-type {\n",
       "        vertical-align: middle;\n",
       "    }\n",
       "\n",
       "    .dataframe tbody tr th {\n",
       "        vertical-align: top;\n",
       "    }\n",
       "\n",
       "    .dataframe thead th {\n",
       "        text-align: right;\n",
       "    }\n",
       "</style>\n",
       "<table border=\"1\" class=\"dataframe\">\n",
       "  <thead>\n",
       "    <tr style=\"text-align: right;\">\n",
       "      <th></th>\n",
       "      <th>Surname</th>\n",
       "      <th>Geography</th>\n",
       "      <th>Gender</th>\n",
       "    </tr>\n",
       "  </thead>\n",
       "  <tbody>\n",
       "    <tr>\n",
       "      <th>count</th>\n",
       "      <td>10000</td>\n",
       "      <td>10000</td>\n",
       "      <td>10000</td>\n",
       "    </tr>\n",
       "    <tr>\n",
       "      <th>unique</th>\n",
       "      <td>2932</td>\n",
       "      <td>3</td>\n",
       "      <td>2</td>\n",
       "    </tr>\n",
       "    <tr>\n",
       "      <th>top</th>\n",
       "      <td>Smith</td>\n",
       "      <td>France</td>\n",
       "      <td>Male</td>\n",
       "    </tr>\n",
       "    <tr>\n",
       "      <th>freq</th>\n",
       "      <td>32</td>\n",
       "      <td>5014</td>\n",
       "      <td>5457</td>\n",
       "    </tr>\n",
       "  </tbody>\n",
       "</table>\n",
       "</div>"
      ],
      "text/plain": [
       "       Surname Geography Gender\n",
       "count    10000     10000  10000\n",
       "unique    2932         3      2\n",
       "top      Smith    France   Male\n",
       "freq        32      5014   5457"
      ]
     },
     "execution_count": 7,
     "metadata": {},
     "output_type": "execute_result"
    }
   ],
   "source": [
    "df.describe(include=['O'])"
   ]
  },
  {
   "cell_type": "code",
   "execution_count": 8,
   "id": "f20cc915",
   "metadata": {
    "execution": {
     "iopub.execute_input": "2022-03-23T20:59:49.422921Z",
     "iopub.status.busy": "2022-03-23T20:59:49.422240Z",
     "iopub.status.idle": "2022-03-23T20:59:49.442795Z",
     "shell.execute_reply": "2022-03-23T20:59:49.443495Z",
     "shell.execute_reply.started": "2022-03-23T20:58:36.851972Z"
    },
    "papermill": {
     "duration": 0.066546,
     "end_time": "2022-03-23T20:59:49.443671",
     "exception": false,
     "start_time": "2022-03-23T20:59:49.377125",
     "status": "completed"
    },
    "tags": []
   },
   "outputs": [
    {
     "data": {
      "text/plain": [
       "False"
      ]
     },
     "execution_count": 8,
     "metadata": {},
     "output_type": "execute_result"
    }
   ],
   "source": [
    "#check for duplicates\n",
    "df.duplicated().any()"
   ]
  },
  {
   "cell_type": "code",
   "execution_count": 9,
   "id": "b96b231a",
   "metadata": {
    "execution": {
     "iopub.execute_input": "2022-03-23T20:59:49.530807Z",
     "iopub.status.busy": "2022-03-23T20:59:49.530113Z",
     "iopub.status.idle": "2022-03-23T20:59:49.541822Z",
     "shell.execute_reply": "2022-03-23T20:59:49.541253Z",
     "shell.execute_reply.started": "2022-03-23T20:58:36.871745Z"
    },
    "papermill": {
     "duration": 0.056659,
     "end_time": "2022-03-23T20:59:49.541988",
     "exception": false,
     "start_time": "2022-03-23T20:59:49.485329",
     "status": "completed"
    },
    "tags": []
   },
   "outputs": [
    {
     "data": {
      "text/plain": [
       "0"
      ]
     },
     "execution_count": 9,
     "metadata": {},
     "output_type": "execute_result"
    }
   ],
   "source": [
    "#check for missing values \n",
    "df.isnull().sum().sum()"
   ]
  },
  {
   "cell_type": "code",
   "execution_count": 10,
   "id": "de12a885",
   "metadata": {
    "execution": {
     "iopub.execute_input": "2022-03-23T20:59:49.633795Z",
     "iopub.status.busy": "2022-03-23T20:59:49.632739Z",
     "iopub.status.idle": "2022-03-23T20:59:50.023839Z",
     "shell.execute_reply": "2022-03-23T20:59:50.023204Z",
     "shell.execute_reply.started": "2022-03-23T20:58:36.885420Z"
    },
    "papermill": {
     "duration": 0.439636,
     "end_time": "2022-03-23T20:59:50.024003",
     "exception": false,
     "start_time": "2022-03-23T20:59:49.584367",
     "status": "completed"
    },
    "tags": []
   },
   "outputs": [
    {
     "data": {
      "text/plain": [
       "<AxesSubplot:xlabel='Exited', ylabel='count'>"
      ]
     },
     "execution_count": 10,
     "metadata": {},
     "output_type": "execute_result"
    },
    {
     "data": {
      "image/png": "[encoded data removed]",
      "text/plain": [
       "<Figure size 432x288 with 1 Axes>"
      ]
     },
     "metadata": {},
     "output_type": "display_data"
    }
   ],
   "source": [
    "#Univariate analysis\n",
    "sns.set_style('whitegrid')\n",
    "sns.countplot(df['Exited'])"
   ]
  },
  {
   "cell_type": "raw",
   "id": "69bbb948",
   "metadata": {
    "papermill": {
     "duration": 0.043468,
     "end_time": "2022-03-23T20:59:50.112045",
     "exception": false,
     "start_time": "2022-03-23T20:59:50.068577",
     "status": "completed"
    },
    "tags": []
   },
   "source": [
    "Heavily imbalanced \n",
    "We need to use SMOTE"
   ]
  },
  {
   "cell_type": "code",
   "execution_count": 11,
   "id": "34d7ece2",
   "metadata": {
    "execution": {
     "iopub.execute_input": "2022-03-23T20:59:50.206994Z",
     "iopub.status.busy": "2022-03-23T20:59:50.206225Z",
     "iopub.status.idle": "2022-03-23T20:59:51.026500Z",
     "shell.execute_reply": "2022-03-23T20:59:51.025521Z",
     "shell.execute_reply.started": "2022-03-23T20:58:37.241147Z"
    },
    "papermill": {
     "duration": 0.870764,
     "end_time": "2022-03-23T20:59:51.026653",
     "exception": false,
     "start_time": "2022-03-23T20:59:50.155889",
     "status": "completed"
    },
    "tags": []
   },
   "outputs": [
    {
     "data": {
      "text/plain": [
       "<seaborn.axisgrid.FacetGrid at 0x7f4af9d61910>"
      ]
     },
     "execution_count": 11,
     "metadata": {},
     "output_type": "execute_result"
    },
    {
     "data": {
      "image/png": "[encoded data removed]",
      "text/plain": [
       "<Figure size 402.375x360 with 1 Axes>"
      ]
     },
     "metadata": {},
     "output_type": "display_data"
    }
   ],
   "source": [
    "sns.FacetGrid(df,hue=\"Exited\",size=5).map(sns.distplot,\"Age\").add_legend()"
   ]
  },
  {
   "cell_type": "code",
   "execution_count": 12,
   "id": "af21ee62",
   "metadata": {
    "execution": {
     "iopub.execute_input": "2022-03-23T20:59:51.139453Z",
     "iopub.status.busy": "2022-03-23T20:59:51.138763Z",
     "iopub.status.idle": "2022-03-23T20:59:51.348613Z",
     "shell.execute_reply": "2022-03-23T20:59:51.348027Z",
     "shell.execute_reply.started": "2022-03-23T20:58:38.030988Z"
    },
    "papermill": {
     "duration": 0.269212,
     "end_time": "2022-03-23T20:59:51.348785",
     "exception": false,
     "start_time": "2022-03-23T20:59:51.079573",
     "status": "completed"
    },
    "tags": []
   },
   "outputs": [
    {
     "data": {
      "text/plain": [
       "<AxesSubplot:xlabel='Geography', ylabel='count'>"
      ]
     },
     "execution_count": 12,
     "metadata": {},
     "output_type": "execute_result"
    },
    {
     "data": {
      "image/png": "[encoded data removed]",
      "text/plain": [
       "<Figure size 432x288 with 1 Axes>"
      ]
     },
     "metadata": {},
     "output_type": "display_data"
    }
   ],
   "source": [
    "sns.countplot(x='Geography',data=df,palette='RdBu_r')"
   ]
  },
  {
   "cell_type": "code",
   "execution_count": 13,
   "id": "a04deb60",
   "metadata": {
    "execution": {
     "iopub.execute_input": "2022-03-23T20:59:51.444734Z",
     "iopub.status.busy": "2022-03-23T20:59:51.444013Z",
     "iopub.status.idle": "2022-03-23T20:59:51.710216Z",
     "shell.execute_reply": "2022-03-23T20:59:51.709529Z",
     "shell.execute_reply.started": "2022-03-23T20:58:38.242371Z"
    },
    "papermill": {
     "duration": 0.31538,
     "end_time": "2022-03-23T20:59:51.710363",
     "exception": false,
     "start_time": "2022-03-23T20:59:51.394983",
     "status": "completed"
    },
    "tags": []
   },
   "outputs": [
    {
     "data": {
      "text/plain": [
       "<AxesSubplot:xlabel='Geography', ylabel='count'>"
      ]
     },
     "execution_count": 13,
     "metadata": {},
     "output_type": "execute_result"
    },
    {
     "data": {
      "image/png": "[encoded data removed]",
      "text/plain": [
       "<Figure size 432x288 with 1 Axes>"
      ]
     },
     "metadata": {},
     "output_type": "display_data"
    }
   ],
   "source": [
    "sns.countplot(x='Geography',hue='Exited',data=df,palette='RdBu_r')"
   ]
  },
  {
   "cell_type": "code",
   "execution_count": 14,
   "id": "365e1dca",
   "metadata": {
    "execution": {
     "iopub.execute_input": "2022-03-23T20:59:51.821311Z",
     "iopub.status.busy": "2022-03-23T20:59:51.812143Z",
     "iopub.status.idle": "2022-03-23T20:59:52.040037Z",
     "shell.execute_reply": "2022-03-23T20:59:52.040607Z",
     "shell.execute_reply.started": "2022-03-23T20:58:38.511689Z"
    },
    "papermill": {
     "duration": 0.280474,
     "end_time": "2022-03-23T20:59:52.040822",
     "exception": false,
     "start_time": "2022-03-23T20:59:51.760348",
     "status": "completed"
    },
    "tags": []
   },
   "outputs": [
    {
     "data": {
      "text/plain": [
       "<AxesSubplot:xlabel='Gender', ylabel='count'>"
      ]
     },
     "execution_count": 14,
     "metadata": {},
     "output_type": "execute_result"
    },
    {
     "data": {
      "image/png": "[encoded data removed]",
      "text/plain": [
       "<Figure size 432x288 with 1 Axes>"
      ]
     },
     "metadata": {},
     "output_type": "display_data"
    }
   ],
   "source": [
    "sns.countplot(x='Gender',hue='Exited',data=df,palette='RdBu_r')"
   ]
  },
  {
   "cell_type": "code",
   "execution_count": 15,
   "id": "dd9a2384",
   "metadata": {
    "execution": {
     "iopub.execute_input": "2022-03-23T20:59:52.146111Z",
     "iopub.status.busy": "2022-03-23T20:59:52.145336Z",
     "iopub.status.idle": "2022-03-23T20:59:52.461059Z",
     "shell.execute_reply": "2022-03-23T20:59:52.460463Z",
     "shell.execute_reply.started": "2022-03-23T20:58:38.738337Z"
    },
    "papermill": {
     "duration": 0.371019,
     "end_time": "2022-03-23T20:59:52.461224",
     "exception": false,
     "start_time": "2022-03-23T20:59:52.090205",
     "status": "completed"
    },
    "tags": []
   },
   "outputs": [
    {
     "data": {
      "text/plain": [
       "<AxesSubplot:>"
      ]
     },
     "execution_count": 15,
     "metadata": {},
     "output_type": "execute_result"
    },
    {
     "data": {
      "image/png": "[encoded data removed]",
      "text/plain": [
       "<Figure size 432x288 with 1 Axes>"
      ]
     },
     "metadata": {},
     "output_type": "display_data"
    }
   ],
   "source": [
    "df['Age'].hist(bins=30,color='darkred',alpha=0.7)"
   ]
  },
  {
   "cell_type": "code",
   "execution_count": 16,
   "id": "82ff86b2",
   "metadata": {
    "execution": {
     "iopub.execute_input": "2022-03-23T20:59:52.567906Z",
     "iopub.status.busy": "2022-03-23T20:59:52.567215Z",
     "iopub.status.idle": "2022-03-23T20:59:52.842540Z",
     "shell.execute_reply": "2022-03-23T20:59:52.841905Z",
     "shell.execute_reply.started": "2022-03-23T20:58:39.085480Z"
    },
    "papermill": {
     "duration": 0.331125,
     "end_time": "2022-03-23T20:59:52.842679",
     "exception": false,
     "start_time": "2022-03-23T20:59:52.511554",
     "status": "completed"
    },
    "tags": []
   },
   "outputs": [
    {
     "data": {
      "text/plain": [
       "<AxesSubplot:>"
      ]
     },
     "execution_count": 16,
     "metadata": {},
     "output_type": "execute_result"
    },
    {
     "data": {
      "image/png": "[encoded data removed]",
      "text/plain": [
       "<Figure size 432x288 with 1 Axes>"
      ]
     },
     "metadata": {},
     "output_type": "display_data"
    }
   ],
   "source": [
    "df['Balance'].hist(bins=30,color='darkred',alpha=0.7)"
   ]
  },
  {
   "cell_type": "code",
   "execution_count": 17,
   "id": "18be5d54",
   "metadata": {
    "execution": {
     "iopub.execute_input": "2022-03-23T20:59:52.959996Z",
     "iopub.status.busy": "2022-03-23T20:59:52.959184Z",
     "iopub.status.idle": "2022-03-23T20:59:53.228249Z",
     "shell.execute_reply": "2022-03-23T20:59:53.228784Z",
     "shell.execute_reply.started": "2022-03-23T20:58:39.409832Z"
    },
    "papermill": {
     "duration": 0.334624,
     "end_time": "2022-03-23T20:59:53.228973",
     "exception": false,
     "start_time": "2022-03-23T20:59:52.894349",
     "status": "completed"
    },
    "tags": []
   },
   "outputs": [
    {
     "data": {
      "text/plain": [
       "<AxesSubplot:>"
      ]
     },
     "execution_count": 17,
     "metadata": {},
     "output_type": "execute_result"
    },
    {
     "data": {
      "image/png": "[encoded data removed]",
      "text/plain": [
       "<Figure size 432x288 with 1 Axes>"
      ]
     },
     "metadata": {},
     "output_type": "display_data"
    }
   ],
   "source": [
    "df['CreditScore'].hist(bins=30,color='darkred',alpha=0.7)"
   ]
  },
  {
   "cell_type": "code",
   "execution_count": 18,
   "id": "587ee7d6",
   "metadata": {
    "execution": {
     "iopub.execute_input": "2022-03-23T20:59:53.338119Z",
     "iopub.status.busy": "2022-03-23T20:59:53.337361Z",
     "iopub.status.idle": "2022-03-23T20:59:54.104923Z",
     "shell.execute_reply": "2022-03-23T20:59:54.103926Z",
     "shell.execute_reply.started": "2022-03-23T20:58:39.725362Z"
    },
    "papermill": {
     "duration": 0.823714,
     "end_time": "2022-03-23T20:59:54.105146",
     "exception": false,
     "start_time": "2022-03-23T20:59:53.281432",
     "status": "completed"
    },
    "tags": []
   },
   "outputs": [
    {
     "data": {
      "text/plain": [
       "<seaborn.axisgrid.FacetGrid at 0x7f4af963d790>"
      ]
     },
     "execution_count": 18,
     "metadata": {},
     "output_type": "execute_result"
    },
    {
     "data": {
      "image/png": "[encoded data removed]",
      "text/plain": [
       "<Figure size 402.375x360 with 1 Axes>"
      ]
     },
     "metadata": {},
     "output_type": "display_data"
    }
   ],
   "source": [
    "sns.FacetGrid(df,hue=\"Exited\",size=5).map(sns.distplot,\"CreditScore\").add_legend()"
   ]
  },
  {
   "cell_type": "code",
   "execution_count": 19,
   "id": "eda86ffd",
   "metadata": {
    "execution": {
     "iopub.execute_input": "2022-03-23T20:59:54.248509Z",
     "iopub.status.busy": "2022-03-23T20:59:54.247829Z",
     "iopub.status.idle": "2022-03-23T20:59:54.521716Z",
     "shell.execute_reply": "2022-03-23T20:59:54.522466Z",
     "shell.execute_reply.started": "2022-03-23T20:58:40.490939Z"
    },
    "papermill": {
     "duration": 0.340035,
     "end_time": "2022-03-23T20:59:54.522775",
     "exception": false,
     "start_time": "2022-03-23T20:59:54.182740",
     "status": "completed"
    },
    "tags": []
   },
   "outputs": [
    {
     "data": {
      "text/plain": [
       "<AxesSubplot:xlabel='NumOfProducts', ylabel='count'>"
      ]
     },
     "execution_count": 19,
     "metadata": {},
     "output_type": "execute_result"
    },
    {
     "data": {
      "image/png": "[encoded data removed]",
      "text/plain": [
       "<Figure size 432x288 with 1 Axes>"
      ]
     },
     "metadata": {},
     "output_type": "display_data"
    }
   ],
   "source": [
    "sns.countplot(x='NumOfProducts',hue='Exited',data=df,palette='RdBu_r')"
   ]
  },
  {
   "cell_type": "code",
   "execution_count": 20,
   "id": "00de6a82",
   "metadata": {
    "execution": {
     "iopub.execute_input": "2022-03-23T20:59:54.644943Z",
     "iopub.status.busy": "2022-03-23T20:59:54.643853Z",
     "iopub.status.idle": "2022-03-23T20:59:54.880447Z",
     "shell.execute_reply": "2022-03-23T20:59:54.879864Z",
     "shell.execute_reply.started": "2022-03-23T20:58:40.757307Z"
    },
    "papermill": {
     "duration": 0.29838,
     "end_time": "2022-03-23T20:59:54.880589",
     "exception": false,
     "start_time": "2022-03-23T20:59:54.582209",
     "status": "completed"
    },
    "tags": []
   },
   "outputs": [
    {
     "data": {
      "text/plain": [
       "<AxesSubplot:xlabel='HasCrCard', ylabel='count'>"
      ]
     },
     "execution_count": 20,
     "metadata": {},
     "output_type": "execute_result"
    },
    {
     "data": {
      "image/png": "[encoded data removed]",
      "text/plain": [
       "<Figure size 432x288 with 1 Axes>"
      ]
     },
     "metadata": {},
     "output_type": "display_data"
    }
   ],
   "source": [
    "sns.countplot(x='HasCrCard',hue='Exited',data=df,palette='RdBu_r')"
   ]
  },
  {
   "cell_type": "code",
   "execution_count": 21,
   "id": "e0f14dde",
   "metadata": {
    "execution": {
     "iopub.execute_input": "2022-03-23T20:59:54.998159Z",
     "iopub.status.busy": "2022-03-23T20:59:54.997460Z",
     "iopub.status.idle": "2022-03-23T20:59:55.214667Z",
     "shell.execute_reply": "2022-03-23T20:59:55.214019Z",
     "shell.execute_reply.started": "2022-03-23T20:58:40.980351Z"
    },
    "papermill": {
     "duration": 0.276966,
     "end_time": "2022-03-23T20:59:55.214825",
     "exception": false,
     "start_time": "2022-03-23T20:59:54.937859",
     "status": "completed"
    },
    "tags": []
   },
   "outputs": [
    {
     "data": {
      "text/plain": [
       "<AxesSubplot:xlabel='IsActiveMember', ylabel='count'>"
      ]
     },
     "execution_count": 21,
     "metadata": {},
     "output_type": "execute_result"
    },
    {
     "data": {
      "image/png": "[encoded data removed]",
      "text/plain": [
       "<Figure size 432x288 with 1 Axes>"
      ]
     },
     "metadata": {},
     "output_type": "display_data"
    }
   ],
   "source": [
    "sns.countplot(x='IsActiveMember',hue='Exited',data=df,palette='RdBu_r')"
   ]
  },
  {
   "cell_type": "code",
   "execution_count": 22,
   "id": "d091063e",
   "metadata": {
    "execution": {
     "iopub.execute_input": "2022-03-23T20:59:55.335396Z",
     "iopub.status.busy": "2022-03-23T20:59:55.334618Z",
     "iopub.status.idle": "2022-03-23T20:59:55.341150Z",
     "shell.execute_reply": "2022-03-23T20:59:55.341722Z",
     "shell.execute_reply.started": "2022-03-23T20:58:41.197116Z"
    },
    "papermill": {
     "duration": 0.068911,
     "end_time": "2022-03-23T20:59:55.341908",
     "exception": false,
     "start_time": "2022-03-23T20:59:55.272997",
     "status": "completed"
    },
    "tags": []
   },
   "outputs": [],
   "source": [
    "#Age bins\n",
    "df['Age_bins'] = pd.cut(df['Age'], bins=3,\n",
    "                      labels=['Young', 'Adult', 'Elderly'])"
   ]
  },
  {
   "cell_type": "code",
   "execution_count": 23,
   "id": "14fb5d18",
   "metadata": {
    "execution": {
     "iopub.execute_input": "2022-03-23T20:59:55.464252Z",
     "iopub.status.busy": "2022-03-23T20:59:55.463532Z",
     "iopub.status.idle": "2022-03-23T20:59:55.700011Z",
     "shell.execute_reply": "2022-03-23T20:59:55.700576Z",
     "shell.execute_reply.started": "2022-03-23T20:58:41.206040Z"
    },
    "papermill": {
     "duration": 0.29836,
     "end_time": "2022-03-23T20:59:55.700799",
     "exception": false,
     "start_time": "2022-03-23T20:59:55.402439",
     "status": "completed"
    },
    "tags": []
   },
   "outputs": [
    {
     "data": {
      "text/plain": [
       "<AxesSubplot:xlabel='Age_bins', ylabel='count'>"
      ]
     },
     "execution_count": 23,
     "metadata": {},
     "output_type": "execute_result"
    },
    {
     "data": {
      "image/png": "[encoded data removed]",
      "text/plain": [
       "<Figure size 432x288 with 1 Axes>"
      ]
     },
     "metadata": {},
     "output_type": "display_data"
    }
   ],
   "source": [
    "sns.countplot(x='Age_bins',hue='Exited',data=df,palette='RdBu_r')"
   ]
  },
  {
   "cell_type": "code",
   "execution_count": 24,
   "id": "2b8275a7",
   "metadata": {
    "execution": {
     "iopub.execute_input": "2022-03-23T20:59:55.827354Z",
     "iopub.status.busy": "2022-03-23T20:59:55.826517Z",
     "iopub.status.idle": "2022-03-23T20:59:55.836896Z",
     "shell.execute_reply": "2022-03-23T20:59:55.837428Z",
     "shell.execute_reply.started": "2022-03-23T20:58:41.445698Z"
    },
    "papermill": {
     "duration": 0.07544,
     "end_time": "2022-03-23T20:59:55.837603",
     "exception": false,
     "start_time": "2022-03-23T20:59:55.762163",
     "status": "completed"
    },
    "tags": []
   },
   "outputs": [
    {
     "data": {
      "text/html": [
       "<div>\n",
       "<style scoped>\n",
       "    .dataframe tbody tr th:only-of-type {\n",
       "        vertical-align: middle;\n",
       "    }\n",
       "\n",
       "    .dataframe tbody tr th {\n",
       "        vertical-align: top;\n",
       "    }\n",
       "\n",
       "    .dataframe thead th {\n",
       "        text-align: right;\n",
       "    }\n",
       "</style>\n",
       "<table border=\"1\" class=\"dataframe\">\n",
       "  <thead>\n",
       "    <tr style=\"text-align: right;\">\n",
       "      <th></th>\n",
       "      <th>Exited</th>\n",
       "    </tr>\n",
       "    <tr>\n",
       "      <th>NumOfProducts</th>\n",
       "      <th></th>\n",
       "    </tr>\n",
       "  </thead>\n",
       "  <tbody>\n",
       "    <tr>\n",
       "      <th>1</th>\n",
       "      <td>5084</td>\n",
       "    </tr>\n",
       "    <tr>\n",
       "      <th>2</th>\n",
       "      <td>4590</td>\n",
       "    </tr>\n",
       "    <tr>\n",
       "      <th>3</th>\n",
       "      <td>266</td>\n",
       "    </tr>\n",
       "    <tr>\n",
       "      <th>4</th>\n",
       "      <td>60</td>\n",
       "    </tr>\n",
       "  </tbody>\n",
       "</table>\n",
       "</div>"
      ],
      "text/plain": [
       "               Exited\n",
       "NumOfProducts        \n",
       "1                5084\n",
       "2                4590\n",
       "3                 266\n",
       "4                  60"
      ]
     },
     "execution_count": 24,
     "metadata": {},
     "output_type": "execute_result"
    }
   ],
   "source": [
    "df.groupby(\"NumOfProducts\").agg({\"Exited\":\"count\"})"
   ]
  },
  {
   "cell_type": "code",
   "execution_count": null,
   "id": "21cc2dd9",
   "metadata": {
    "papermill": {
     "duration": 0.061028,
     "end_time": "2022-03-23T20:59:55.958655",
     "exception": false,
     "start_time": "2022-03-23T20:59:55.897627",
     "status": "completed"
    },
    "tags": []
   },
   "outputs": [],
   "source": []
  },
  {
   "cell_type": "code",
   "execution_count": 25,
   "id": "30ecdbf5",
   "metadata": {
    "execution": {
     "iopub.execute_input": "2022-03-23T20:59:56.086557Z",
     "iopub.status.busy": "2022-03-23T20:59:56.085832Z",
     "iopub.status.idle": "2022-03-23T20:59:56.091350Z",
     "shell.execute_reply": "2022-03-23T20:59:56.091891Z",
     "shell.execute_reply.started": "2022-03-23T20:58:41.458385Z"
    },
    "papermill": {
     "duration": 0.071332,
     "end_time": "2022-03-23T20:59:56.092078",
     "exception": false,
     "start_time": "2022-03-23T20:59:56.020746",
     "status": "completed"
    },
    "tags": []
   },
   "outputs": [
    {
     "data": {
      "text/plain": [
       "Index(['RowNumber', 'CustomerId', 'Surname', 'CreditScore', 'Geography',\n",
       "       'Gender', 'Age', 'Tenure', 'Balance', 'NumOfProducts', 'HasCrCard',\n",
       "       'IsActiveMember', 'EstimatedSalary', 'Exited', 'Age_bins'],\n",
       "      dtype='object')"
      ]
     },
     "execution_count": 25,
     "metadata": {},
     "output_type": "execute_result"
    }
   ],
   "source": [
    "df.columns"
   ]
  },
  {
   "cell_type": "code",
   "execution_count": 26,
   "id": "71087d73",
   "metadata": {
    "execution": {
     "iopub.execute_input": "2022-03-23T20:59:56.217219Z",
     "iopub.status.busy": "2022-03-23T20:59:56.216511Z",
     "iopub.status.idle": "2022-03-23T20:59:56.233173Z",
     "shell.execute_reply": "2022-03-23T20:59:56.233796Z",
     "shell.execute_reply.started": "2022-03-23T20:58:41.467278Z"
    },
    "papermill": {
     "duration": 0.080191,
     "end_time": "2022-03-23T20:59:56.233975",
     "exception": false,
     "start_time": "2022-03-23T20:59:56.153784",
     "status": "completed"
    },
    "tags": []
   },
   "outputs": [
    {
     "data": {
      "text/html": [
       "<div>\n",
       "<style scoped>\n",
       "    .dataframe tbody tr th:only-of-type {\n",
       "        vertical-align: middle;\n",
       "    }\n",
       "\n",
       "    .dataframe tbody tr th {\n",
       "        vertical-align: top;\n",
       "    }\n",
       "\n",
       "    .dataframe thead th {\n",
       "        text-align: right;\n",
       "    }\n",
       "</style>\n",
       "<table border=\"1\" class=\"dataframe\">\n",
       "  <thead>\n",
       "    <tr style=\"text-align: right;\">\n",
       "      <th></th>\n",
       "      <th>Surname</th>\n",
       "      <th>CreditScore</th>\n",
       "      <th>Geography</th>\n",
       "      <th>Gender</th>\n",
       "      <th>Age</th>\n",
       "      <th>Tenure</th>\n",
       "      <th>Balance</th>\n",
       "      <th>NumOfProducts</th>\n",
       "      <th>HasCrCard</th>\n",
       "      <th>IsActiveMember</th>\n",
       "      <th>EstimatedSalary</th>\n",
       "      <th>Exited</th>\n",
       "      <th>Age_bins</th>\n",
       "    </tr>\n",
       "  </thead>\n",
       "  <tbody>\n",
       "    <tr>\n",
       "      <th>0</th>\n",
       "      <td>Hargrave</td>\n",
       "      <td>619</td>\n",
       "      <td>France</td>\n",
       "      <td>Female</td>\n",
       "      <td>42</td>\n",
       "      <td>2</td>\n",
       "      <td>0.00</td>\n",
       "      <td>1</td>\n",
       "      <td>1</td>\n",
       "      <td>1</td>\n",
       "      <td>101348.88</td>\n",
       "      <td>1</td>\n",
       "      <td>Young</td>\n",
       "    </tr>\n",
       "    <tr>\n",
       "      <th>1</th>\n",
       "      <td>Hill</td>\n",
       "      <td>608</td>\n",
       "      <td>Spain</td>\n",
       "      <td>Female</td>\n",
       "      <td>41</td>\n",
       "      <td>1</td>\n",
       "      <td>83807.86</td>\n",
       "      <td>1</td>\n",
       "      <td>0</td>\n",
       "      <td>1</td>\n",
       "      <td>112542.58</td>\n",
       "      <td>0</td>\n",
       "      <td>Young</td>\n",
       "    </tr>\n",
       "    <tr>\n",
       "      <th>2</th>\n",
       "      <td>Onio</td>\n",
       "      <td>502</td>\n",
       "      <td>France</td>\n",
       "      <td>Female</td>\n",
       "      <td>42</td>\n",
       "      <td>8</td>\n",
       "      <td>159660.80</td>\n",
       "      <td>3</td>\n",
       "      <td>1</td>\n",
       "      <td>0</td>\n",
       "      <td>113931.57</td>\n",
       "      <td>1</td>\n",
       "      <td>Young</td>\n",
       "    </tr>\n",
       "    <tr>\n",
       "      <th>3</th>\n",
       "      <td>Boni</td>\n",
       "      <td>699</td>\n",
       "      <td>France</td>\n",
       "      <td>Female</td>\n",
       "      <td>39</td>\n",
       "      <td>1</td>\n",
       "      <td>0.00</td>\n",
       "      <td>2</td>\n",
       "      <td>0</td>\n",
       "      <td>0</td>\n",
       "      <td>93826.63</td>\n",
       "      <td>0</td>\n",
       "      <td>Young</td>\n",
       "    </tr>\n",
       "    <tr>\n",
       "      <th>4</th>\n",
       "      <td>Mitchell</td>\n",
       "      <td>850</td>\n",
       "      <td>Spain</td>\n",
       "      <td>Female</td>\n",
       "      <td>43</td>\n",
       "      <td>2</td>\n",
       "      <td>125510.82</td>\n",
       "      <td>1</td>\n",
       "      <td>1</td>\n",
       "      <td>1</td>\n",
       "      <td>79084.10</td>\n",
       "      <td>0</td>\n",
       "      <td>Adult</td>\n",
       "    </tr>\n",
       "  </tbody>\n",
       "</table>\n",
       "</div>"
      ],
      "text/plain": [
       "    Surname  CreditScore Geography  Gender  Age  Tenure    Balance  \\\n",
       "0  Hargrave          619    France  Female   42       2       0.00   \n",
       "1      Hill          608     Spain  Female   41       1   83807.86   \n",
       "2      Onio          502    France  Female   42       8  159660.80   \n",
       "3      Boni          699    France  Female   39       1       0.00   \n",
       "4  Mitchell          850     Spain  Female   43       2  125510.82   \n",
       "\n",
       "   NumOfProducts  HasCrCard  IsActiveMember  EstimatedSalary  Exited Age_bins  \n",
       "0              1          1               1        101348.88       1    Young  \n",
       "1              1          0               1        112542.58       0    Young  \n",
       "2              3          1               0        113931.57       1    Young  \n",
       "3              2          0               0         93826.63       0    Young  \n",
       "4              1          1               1         79084.10       0    Adult  "
      ]
     },
     "execution_count": 26,
     "metadata": {},
     "output_type": "execute_result"
    }
   ],
   "source": [
    "#cleaning our data\n",
    "cleanDf = df.drop(['RowNumber', 'CustomerId'],axis=1)\n",
    "cleanDf.head()"
   ]
  },
  {
   "cell_type": "code",
   "execution_count": 27,
   "id": "8b9e58c4",
   "metadata": {
    "execution": {
     "iopub.execute_input": "2022-03-23T20:59:56.358684Z",
     "iopub.status.busy": "2022-03-23T20:59:56.358037Z",
     "iopub.status.idle": "2022-03-23T20:59:56.364288Z",
     "shell.execute_reply": "2022-03-23T20:59:56.364889Z",
     "shell.execute_reply.started": "2022-03-23T20:58:41.490595Z"
    },
    "papermill": {
     "duration": 0.070097,
     "end_time": "2022-03-23T20:59:56.365057",
     "exception": false,
     "start_time": "2022-03-23T20:59:56.294960",
     "status": "completed"
    },
    "tags": []
   },
   "outputs": [
    {
     "data": {
      "text/plain": [
       "Surname              object\n",
       "CreditScore           int64\n",
       "Geography            object\n",
       "Gender               object\n",
       "Age                   int64\n",
       "Tenure                int64\n",
       "Balance             float64\n",
       "NumOfProducts         int64\n",
       "HasCrCard             int64\n",
       "IsActiveMember        int64\n",
       "EstimatedSalary     float64\n",
       "Exited                int64\n",
       "Age_bins           category\n",
       "dtype: object"
      ]
     },
     "execution_count": 27,
     "metadata": {},
     "output_type": "execute_result"
    }
   ],
   "source": [
    "cleanDf.dtypes"
   ]
  },
  {
   "cell_type": "code",
   "execution_count": 28,
   "id": "609638fe",
   "metadata": {
    "execution": {
     "iopub.execute_input": "2022-03-23T20:59:56.490609Z",
     "iopub.status.busy": "2022-03-23T20:59:56.489940Z",
     "iopub.status.idle": "2022-03-23T20:59:56.511497Z",
     "shell.execute_reply": "2022-03-23T20:59:56.512128Z",
     "shell.execute_reply.started": "2022-03-23T20:58:41.499225Z"
    },
    "papermill": {
     "duration": 0.086278,
     "end_time": "2022-03-23T20:59:56.512307",
     "exception": false,
     "start_time": "2022-03-23T20:59:56.426029",
     "status": "completed"
    },
    "tags": []
   },
   "outputs": [
    {
     "data": {
      "text/html": [
       "<div>\n",
       "<style scoped>\n",
       "    .dataframe tbody tr th:only-of-type {\n",
       "        vertical-align: middle;\n",
       "    }\n",
       "\n",
       "    .dataframe tbody tr th {\n",
       "        vertical-align: top;\n",
       "    }\n",
       "\n",
       "    .dataframe thead th {\n",
       "        text-align: right;\n",
       "    }\n",
       "</style>\n",
       "<table border=\"1\" class=\"dataframe\">\n",
       "  <thead>\n",
       "    <tr style=\"text-align: right;\">\n",
       "      <th></th>\n",
       "      <th>Surname</th>\n",
       "      <th>CreditScore</th>\n",
       "      <th>Geography</th>\n",
       "      <th>Gender</th>\n",
       "      <th>Age</th>\n",
       "      <th>Tenure</th>\n",
       "      <th>Balance</th>\n",
       "      <th>NumOfProducts</th>\n",
       "      <th>HasCrCard</th>\n",
       "      <th>IsActiveMember</th>\n",
       "      <th>EstimatedSalary</th>\n",
       "      <th>Exited</th>\n",
       "      <th>Age_bins</th>\n",
       "    </tr>\n",
       "  </thead>\n",
       "  <tbody>\n",
       "    <tr>\n",
       "      <th>0</th>\n",
       "      <td>0</td>\n",
       "      <td>619</td>\n",
       "      <td>0</td>\n",
       "      <td>0</td>\n",
       "      <td>42</td>\n",
       "      <td>2</td>\n",
       "      <td>0.00</td>\n",
       "      <td>1</td>\n",
       "      <td>1</td>\n",
       "      <td>1</td>\n",
       "      <td>101348.88</td>\n",
       "      <td>1</td>\n",
       "      <td>0</td>\n",
       "    </tr>\n",
       "    <tr>\n",
       "      <th>1</th>\n",
       "      <td>1</td>\n",
       "      <td>608</td>\n",
       "      <td>1</td>\n",
       "      <td>0</td>\n",
       "      <td>41</td>\n",
       "      <td>1</td>\n",
       "      <td>83807.86</td>\n",
       "      <td>1</td>\n",
       "      <td>0</td>\n",
       "      <td>1</td>\n",
       "      <td>112542.58</td>\n",
       "      <td>0</td>\n",
       "      <td>0</td>\n",
       "    </tr>\n",
       "    <tr>\n",
       "      <th>2</th>\n",
       "      <td>2</td>\n",
       "      <td>502</td>\n",
       "      <td>0</td>\n",
       "      <td>0</td>\n",
       "      <td>42</td>\n",
       "      <td>8</td>\n",
       "      <td>159660.80</td>\n",
       "      <td>3</td>\n",
       "      <td>1</td>\n",
       "      <td>0</td>\n",
       "      <td>113931.57</td>\n",
       "      <td>1</td>\n",
       "      <td>0</td>\n",
       "    </tr>\n",
       "    <tr>\n",
       "      <th>3</th>\n",
       "      <td>3</td>\n",
       "      <td>699</td>\n",
       "      <td>0</td>\n",
       "      <td>0</td>\n",
       "      <td>39</td>\n",
       "      <td>1</td>\n",
       "      <td>0.00</td>\n",
       "      <td>2</td>\n",
       "      <td>0</td>\n",
       "      <td>0</td>\n",
       "      <td>93826.63</td>\n",
       "      <td>0</td>\n",
       "      <td>0</td>\n",
       "    </tr>\n",
       "    <tr>\n",
       "      <th>4</th>\n",
       "      <td>4</td>\n",
       "      <td>850</td>\n",
       "      <td>1</td>\n",
       "      <td>0</td>\n",
       "      <td>43</td>\n",
       "      <td>2</td>\n",
       "      <td>125510.82</td>\n",
       "      <td>1</td>\n",
       "      <td>1</td>\n",
       "      <td>1</td>\n",
       "      <td>79084.10</td>\n",
       "      <td>0</td>\n",
       "      <td>1</td>\n",
       "    </tr>\n",
       "  </tbody>\n",
       "</table>\n",
       "</div>"
      ],
      "text/plain": [
       "   Surname  CreditScore  Geography  Gender  Age  Tenure    Balance  \\\n",
       "0        0          619          0       0   42       2       0.00   \n",
       "1        1          608          1       0   41       1   83807.86   \n",
       "2        2          502          0       0   42       8  159660.80   \n",
       "3        3          699          0       0   39       1       0.00   \n",
       "4        4          850          1       0   43       2  125510.82   \n",
       "\n",
       "   NumOfProducts  HasCrCard  IsActiveMember  EstimatedSalary  Exited  Age_bins  \n",
       "0              1          1               1        101348.88       1         0  \n",
       "1              1          0               1        112542.58       0         0  \n",
       "2              3          1               0        113931.57       1         0  \n",
       "3              2          0               0         93826.63       0         0  \n",
       "4              1          1               1         79084.10       0         1  "
      ]
     },
     "execution_count": 28,
     "metadata": {},
     "output_type": "execute_result"
    }
   ],
   "source": [
    "cleanDf['Surname'] = pd.factorize(cleanDf['Surname'])[0]\n",
    "cleanDf['Geography'] =pd.factorize(cleanDf['Geography'])[0]\n",
    "cleanDf['Gender'] =pd.factorize(cleanDf['Gender'])[0]\n",
    "cleanDf['Age_bins']=pd.factorize(cleanDf['Age_bins'])[0]\n",
    "\n",
    "\n",
    "cleanDf.head()"
   ]
  },
  {
   "cell_type": "code",
   "execution_count": 29,
   "id": "85edde70",
   "metadata": {
    "execution": {
     "iopub.execute_input": "2022-03-23T20:59:56.641430Z",
     "iopub.status.busy": "2022-03-23T20:59:56.640646Z",
     "iopub.status.idle": "2022-03-23T20:59:56.651595Z",
     "shell.execute_reply": "2022-03-23T20:59:56.652224Z",
     "shell.execute_reply.started": "2022-03-23T20:58:41.531962Z"
    },
    "papermill": {
     "duration": 0.077983,
     "end_time": "2022-03-23T20:59:56.652420",
     "exception": false,
     "start_time": "2022-03-23T20:59:56.574437",
     "status": "completed"
    },
    "tags": []
   },
   "outputs": [],
   "source": [
    "#Modelling\n",
    "y=cleanDf[\"Exited\"]\n",
    "X= cleanDf.drop(['Exited'],axis=1)\n",
    "\n",
    "\n",
    "X_train, X_test, y_train, y_test = train_test_split(X, y, \n",
    "                                                    test_size=0.20, \n",
    "                                                    random_state=34)"
   ]
  },
  {
   "cell_type": "code",
   "execution_count": 30,
   "id": "7c277901",
   "metadata": {
    "execution": {
     "iopub.execute_input": "2022-03-23T20:59:56.781983Z",
     "iopub.status.busy": "2022-03-23T20:59:56.781226Z",
     "iopub.status.idle": "2022-03-23T21:00:09.094065Z",
     "shell.execute_reply": "2022-03-23T21:00:09.093386Z",
     "shell.execute_reply.started": "2022-03-23T20:58:41.544899Z"
    },
    "papermill": {
     "duration": 12.379551,
     "end_time": "2022-03-23T21:00:09.094213",
     "exception": false,
     "start_time": "2022-03-23T20:59:56.714662",
     "status": "completed"
    },
    "tags": []
   },
   "outputs": [
    {
     "name": "stdout",
     "output_type": "stream",
     "text": [
      "0.862125\n",
      "Accuracy score is  0.861\n",
      "              precision    recall  f1-score   support\n",
      "\n",
      "           0       0.87      0.96      0.92      1566\n",
      "           1       0.79      0.49      0.60       434\n",
      "\n",
      "    accuracy                           0.86      2000\n",
      "   macro avg       0.83      0.73      0.76      2000\n",
      "weighted avg       0.85      0.86      0.85      2000\n",
      "\n"
     ]
    }
   ],
   "source": [
    "#RandomForest\n",
    "rf = RandomForestClassifier().fit(X_train,y_train)\n",
    "y_pred = rf.predict(X_test)\n",
    "\n",
    "cv_results = cross_val_score(rf, X_train, y_train, cv = 10, scoring= \"accuracy\")\n",
    "\n",
    "print(cv_results.mean())\n",
    "print(\"Accuracy score is \",accuracy_score(y_test, y_pred))\n",
    "print(classification_report(y_test, y_pred))"
   ]
  },
  {
   "cell_type": "code",
   "execution_count": 31,
   "id": "8a3954c3",
   "metadata": {
    "execution": {
     "iopub.execute_input": "2022-03-23T21:00:09.238239Z",
     "iopub.status.busy": "2022-03-23T21:00:09.237467Z",
     "iopub.status.idle": "2022-03-23T21:00:09.551495Z",
     "shell.execute_reply": "2022-03-23T21:00:09.550617Z",
     "shell.execute_reply.started": "2022-03-23T20:58:53.430655Z"
    },
    "papermill": {
     "duration": 0.389296,
     "end_time": "2022-03-23T21:00:09.551724",
     "exception": false,
     "start_time": "2022-03-23T21:00:09.162428",
     "status": "completed"
    },
    "tags": []
   },
   "outputs": [
    {
     "data": {
      "image/png": "[encoded data removed]",
      "text/plain": [
       "<Figure size 576x576 with 1 Axes>"
      ]
     },
     "metadata": {},
     "output_type": "display_data"
    }
   ],
   "source": [
    "#plotting feature importances\n",
    "importance=rf.feature_importances_\n",
    "plt.figure(figsize=(8,8))\n",
    "plt.barh(X.columns,importance)\n",
    "plt.show()"
   ]
  },
  {
   "cell_type": "code",
   "execution_count": 32,
   "id": "ee14f5cd",
   "metadata": {
    "execution": {
     "iopub.execute_input": "2022-03-23T21:00:09.700424Z",
     "iopub.status.busy": "2022-03-23T21:00:09.699352Z",
     "iopub.status.idle": "2022-03-23T21:00:22.992526Z",
     "shell.execute_reply": "2022-03-23T21:00:22.991944Z",
     "shell.execute_reply.started": "2022-03-23T20:58:53.734999Z"
    },
    "papermill": {
     "duration": 13.371335,
     "end_time": "2022-03-23T21:00:22.992717",
     "exception": false,
     "start_time": "2022-03-23T21:00:09.621382",
     "status": "completed"
    },
    "tags": []
   },
   "outputs": [
    {
     "name": "stdout",
     "output_type": "stream",
     "text": [
      "0.8627499999999999\n",
      "0.8615\n",
      "              precision    recall  f1-score   support\n",
      "\n",
      "           0       0.87      0.96      0.92      1566\n",
      "           1       0.79      0.49      0.61       434\n",
      "\n",
      "    accuracy                           0.86      2000\n",
      "   macro avg       0.83      0.73      0.76      2000\n",
      "weighted avg       0.85      0.86      0.85      2000\n",
      "\n"
     ]
    }
   ],
   "source": [
    "#Gradient Boosting\n",
    "gbm_model=GradientBoostingClassifier().fit(X_train,y_train)\n",
    "y_pred = gbm_model.predict(X_test)\n",
    "\n",
    "cv_results = cross_val_score(gbm_model, X_train, y_train, cv = 10, scoring= \"accuracy\")\n",
    "\n",
    "print(cv_results.mean())\n",
    "print(accuracy_score(y_test, y_pred))\n",
    "print(classification_report(y_test, y_pred))"
   ]
  },
  {
   "cell_type": "code",
   "execution_count": 33,
   "id": "b6c4efae",
   "metadata": {
    "execution": {
     "iopub.execute_input": "2022-03-23T21:00:23.128187Z",
     "iopub.status.busy": "2022-03-23T21:00:23.127424Z",
     "iopub.status.idle": "2022-03-23T21:00:24.837881Z",
     "shell.execute_reply": "2022-03-23T21:00:24.838732Z",
     "shell.execute_reply.started": "2022-03-23T20:59:06.838295Z"
    },
    "papermill": {
     "duration": 1.781249,
     "end_time": "2022-03-23T21:00:24.838927",
     "exception": false,
     "start_time": "2022-03-23T21:00:23.057678",
     "status": "completed"
    },
    "tags": []
   },
   "outputs": [
    {
     "name": "stdout",
     "output_type": "stream",
     "text": [
      "0.859625\n",
      "0.8615\n",
      "              precision    recall  f1-score   support\n",
      "\n",
      "           0       0.88      0.96      0.92      1566\n",
      "           1       0.78      0.51      0.61       434\n",
      "\n",
      "    accuracy                           0.86      2000\n",
      "   macro avg       0.83      0.73      0.76      2000\n",
      "weighted avg       0.85      0.86      0.85      2000\n",
      "\n"
     ]
    }
   ],
   "source": [
    "#LightGBM\n",
    "lgbm_model=lgb.LGBMClassifier().fit(X_train,y_train)\n",
    "y_pred = lgbm_model.predict(X_test)\n",
    "\n",
    "cv_results = cross_val_score(lgbm_model, X_train, y_train, cv = 10, scoring= \"accuracy\")\n",
    "\n",
    "print(cv_results.mean())\n",
    "print(accuracy_score(y_test, y_pred))\n",
    "print(classification_report(y_test, y_pred))"
   ]
  },
  {
   "cell_type": "code",
   "execution_count": 34,
   "id": "c071cb79",
   "metadata": {
    "execution": {
     "iopub.execute_input": "2022-03-23T21:00:24.973428Z",
     "iopub.status.busy": "2022-03-23T21:00:24.971287Z",
     "iopub.status.idle": "2022-03-23T21:00:25.003186Z",
     "shell.execute_reply": "2022-03-23T21:00:25.003712Z",
     "shell.execute_reply.started": "2022-03-23T20:59:08.596733Z"
    },
    "papermill": {
     "duration": 0.100078,
     "end_time": "2022-03-23T21:00:25.003903",
     "exception": false,
     "start_time": "2022-03-23T21:00:24.903825",
     "status": "completed"
    },
    "tags": []
   },
   "outputs": [],
   "source": [
    "# model tuning\n",
    "#SMOTE\n",
    "smt = SMOTE(random_state=15)\n",
    "X_res, y_res = smt.fit_resample(X, y)\n"
   ]
  },
  {
   "cell_type": "code",
   "execution_count": 35,
   "id": "e788618c",
   "metadata": {
    "execution": {
     "iopub.execute_input": "2022-03-23T21:00:25.144035Z",
     "iopub.status.busy": "2022-03-23T21:00:25.138566Z",
     "iopub.status.idle": "2022-03-23T21:00:29.515807Z",
     "shell.execute_reply": "2022-03-23T21:00:29.516377Z",
     "shell.execute_reply.started": "2022-03-23T20:59:08.633446Z"
    },
    "papermill": {
     "duration": 4.447126,
     "end_time": "2022-03-23T21:00:29.516561",
     "exception": false,
     "start_time": "2022-03-23T21:00:25.069435",
     "status": "completed"
    },
    "tags": []
   },
   "outputs": [
    {
     "name": "stdout",
     "output_type": "stream",
     "text": [
      "cross_val_score(train): 0.8474097331240188\n",
      "cross_val_score(test): 0.8383559078093887\n",
      "accuracy_score(train): 0.8983516483516484\n",
      "accuracy_score(test): 0.8640929064657878\n",
      "              precision    recall  f1-score   support\n",
      "\n",
      "           0       0.87      0.86      0.87      1632\n",
      "           1       0.86      0.86      0.86      1554\n",
      "\n",
      "    accuracy                           0.86      3186\n",
      "   macro avg       0.86      0.86      0.86      3186\n",
      "weighted avg       0.86      0.86      0.86      3186\n",
      "\n"
     ]
    }
   ],
   "source": [
    "#LGBMClassifier\n",
    "#split işlemi\n",
    "X_train, X_test, y_train, y_test = train_test_split(X_res, y_res, \n",
    "                                                    test_size=0.20, \n",
    "                                                    random_state=15)\n",
    "\n",
    "\n",
    "lgbm_model=lgb.LGBMClassifier(random_state=15).fit(X_train,y_train)\n",
    "y_pred = lgbm_model.predict(X_test)\n",
    "\n",
    "cv_results = cross_val_score(lgbm_model, X_train,y_train, cv = 10, scoring= \"accuracy\")\n",
    "\n",
    "print(\"cross_val_score(train):\", cv_results.mean())\n",
    "\n",
    "cv_results = cross_val_score(lgbm_model, X_test,y_test, cv = 10, scoring= \"accuracy\")\n",
    "print(\"cross_val_score(test):\", cv_results.mean())\n",
    "\n",
    "\n",
    "y_train_pred = lgbm_model.predict(X_train)\n",
    "print(\"accuracy_score(train):\",accuracy_score(y_train, y_train_pred))\n",
    "print(\"accuracy_score(test):\",accuracy_score(y_test, y_pred))\n",
    "print(classification_report(y_test, y_pred))"
   ]
  },
  {
   "cell_type": "code",
   "execution_count": 36,
   "id": "571e361b",
   "metadata": {
    "execution": {
     "iopub.execute_input": "2022-03-23T21:00:29.652177Z",
     "iopub.status.busy": "2022-03-23T21:00:29.651417Z",
     "iopub.status.idle": "2022-03-23T21:00:29.923097Z",
     "shell.execute_reply": "2022-03-23T21:00:29.922365Z",
     "shell.execute_reply.started": "2022-03-23T20:59:11.979005Z"
    },
    "papermill": {
     "duration": 0.341273,
     "end_time": "2022-03-23T21:00:29.923250",
     "exception": false,
     "start_time": "2022-03-23T21:00:29.581977",
     "status": "completed"
    },
    "tags": []
   },
   "outputs": [
    {
     "name": "stdout",
     "output_type": "stream",
     "text": [
      "[[1411  221]\n",
      " [ 212 1342]]\n"
     ]
    },
    {
     "data": {
      "image/png": "[encoded data removed]",
      "text/plain": [
       "<Figure size 432x288 with 2 Axes>"
      ]
     },
     "metadata": {},
     "output_type": "display_data"
    }
   ],
   "source": [
    "cf_matrix = confusion_matrix(y_test, y_pred)\n",
    "print(cf_matrix)\n",
    "sns.heatmap(cf_matrix/np.sum(cf_matrix), annot=True, \n",
    "            fmt='.2%', cmap='Blues');"
   ]
  },
  {
   "cell_type": "code",
   "execution_count": null,
   "id": "c29a79b9",
   "metadata": {
    "papermill": {
     "duration": 0.066985,
     "end_time": "2022-03-23T21:00:30.059169",
     "exception": false,
     "start_time": "2022-03-23T21:00:29.992184",
     "status": "completed"
    },
    "tags": []
   },
   "outputs": [],
   "source": []
  }
 ],
 "metadata": {
  "kernelspec": {
   "display_name": "Python 3",
   "language": "python",
   "name": "python3"
  },
  "language_info": {
   "codemirror_mode": {
    "name": "ipython",
    "version": 3
   },
   "file_extension": ".py",
   "mimetype": "text/x-python",
   "name": "python",
   "nbconvert_exporter": "python",
   "pygments_lexer": "ipython3",
   "version": "3.7.12"
  },
  "papermill": {
   "default_parameters": {},
   "duration": 56.073049,
   "end_time": "2022-03-23T21:00:31.038835",
   "environment_variables": {},
   "exception": null,
   "input_path": "__notebook__.ipynb",
   "output_path": "__notebook__.ipynb",
   "parameters": {},
   "start_time": "2022-03-23T20:59:34.965786",
   "version": "2.3.3"
  }
 },
 "nbformat": 4,
 "nbformat_minor": 5
}
